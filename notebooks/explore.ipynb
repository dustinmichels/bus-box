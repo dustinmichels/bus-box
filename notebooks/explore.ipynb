{
  "cells": [
    {
      "cell_type": "code",
      "execution_count": null,
      "id": "8fcae799-8700-4cc3-99db-e5fb55fb60ea",
      "metadata": {},
      "outputs": [],
      "source": [
        "SERVICE_ALERTS = \"https://cdn.mbta.com/realtime/Alerts.pb\"\n",
        "TRIP_UPDATES = \"https://cdn.mbta.com/realtime/TripUpdates.pb\"\n",
        "VEHICLE_POSITIONS = \"https://cdn.mbta.com/realtime/VehiclePositions.pb\""
      ]
    },
    {
      "cell_type": "code",
      "execution_count": null,
      "id": "fbea0d11-1abf-4d3c-a9ea-af95a238804a",
      "metadata": {},
      "outputs": [],
      "source": [
        "from google.transit import gtfs_realtime_pb2\n",
        "import requests\n",
        "from rich import print"
      ]
    },
    {
      "cell_type": "code",
      "execution_count": null,
      "id": "8dfbf385-64c8-4dc3-9fc5-76afb7b27ae5",
      "metadata": {},
      "outputs": [],
      "source": [
        "feed = gtfs_realtime_pb2.FeedMessage()\n",
        "response = requests.get(TRIP_UPDATES)\n",
        "feed.ParseFromString(response.content)\n",
        "\n",
        "for entity in feed.entity:\n",
        "    if entity.HasField('trip_update'):\n",
        "        print(\"------\")\n",
        "        print(type(entity.trip_update))\n",
        "        print(entity.trip_update)"
      ]
    },
    {
      "cell_type": "code",
      "execution_count": null,
      "id": "625966cc-2007-495f-aec7-d87265c8cd53",
      "metadata": {},
      "outputs": [],
      "source": []
    }
  ],
  "metadata": {
    "kernelspec": {
      "display_name": "Python 3 (ipykernel)",
      "language": "python",
      "name": "python3"
    },
    "language_info": {
      "codemirror_mode": {
        "name": "ipython",
        "version": 3
      },
      "file_extension": ".py",
      "mimetype": "text/x-python",
      "name": "python",
      "nbconvert_exporter": "python",
      "pygments_lexer": "ipython3",
      "version": "3.12.0"
    }
  },
  "nbformat": 4,
  "nbformat_minor": 5
}
