{
  "cells": [
    {
      "cell_type": "code",
      "execution_count": null,
      "id": "ce4478b0-2225-49a7-8732-4eb14eaaebf8",
      "metadata": {},
      "outputs": [],
      "source": [
        "from gtfs_functions import Feed"
      ]
    },
    {
      "cell_type": "code",
      "execution_count": null,
      "id": "61722665-b8c1-420f-8ebc-7b05318eafe8",
      "metadata": {},
      "outputs": [],
      "source": [
        "gtfs_path = 'data/sfmta.zip'"
      ]
    },
    {
      "cell_type": "code",
      "execution_count": null,
      "id": "05450018-4c3b-4f81-b2be-10ab2927d66c",
      "metadata": {},
      "outputs": [],
      "source": []
    }
  ],
  "metadata": {
    "kernelspec": {
      "display_name": "Python 3 (ipykernel)",
      "language": "python",
      "name": "python3"
    },
    "language_info": {
      "codemirror_mode": {
        "name": "ipython",
        "version": 3
      },
      "file_extension": ".py",
      "mimetype": "text/x-python",
      "name": "python",
      "nbconvert_exporter": "python",
      "pygments_lexer": "ipython3",
      "version": "3.12.0"
    }
  },
  "nbformat": 4,
  "nbformat_minor": 5
}
